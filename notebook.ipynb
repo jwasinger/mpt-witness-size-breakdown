{
 "cells": [
  {
   "cell_type": "code",
   "execution_count": 43,
   "id": "03eea302-8e6c-4d31-93aa-4f683b6042ca",
   "metadata": {},
   "outputs": [
    {
     "ename": "Exception",
     "evalue": "invalid value new",
     "output_type": "error",
     "traceback": [
      "\u001b[0;31m---------------------------------------------------------------------------\u001b[0m",
      "\u001b[0;31mException\u001b[0m                                 Traceback (most recent call last)",
      "Cell \u001b[0;32mIn[43], line 41\u001b[0m\n\u001b[1;32m     39\u001b[0m owner_count, owner_size \u001b[38;5;241m=\u001b[39m extract_count_and_size(\u001b[38;5;28mnext\u001b[39m(it))\n\u001b[1;32m     40\u001b[0m node_count, node_size \u001b[38;5;241m=\u001b[39m extract_count_and_size(\u001b[38;5;28mnext\u001b[39m(it))\n\u001b[0;32m---> 41\u001b[0m path_count, path_size \u001b[38;5;241m=\u001b[39m \u001b[43mextract_count_and_size\u001b[49m\u001b[43m(\u001b[49m\u001b[38;5;28;43mnext\u001b[39;49m\u001b[43m(\u001b[49m\u001b[43mit\u001b[49m\u001b[43m)\u001b[49m\u001b[43m)\u001b[49m\n\u001b[1;32m     42\u001b[0m code_count, code_size \u001b[38;5;241m=\u001b[39m extract_count_and_size(\u001b[38;5;28mnext\u001b[39m(it))\n\u001b[1;32m     43\u001b[0m code_hash_count, code_hash_size \u001b[38;5;241m=\u001b[39m extract_count_and_size(\u001b[38;5;28mnext\u001b[39m(it))\n",
      "Cell \u001b[0;32mIn[43], line 20\u001b[0m, in \u001b[0;36mextract_count_and_size\u001b[0;34m(line)\u001b[0m\n\u001b[1;32m     18\u001b[0m parts \u001b[38;5;241m=\u001b[39m [part \u001b[38;5;28;01mfor\u001b[39;00m part \u001b[38;5;129;01min\u001b[39;00m line\u001b[38;5;241m.\u001b[39mstrip(\u001b[38;5;124m'\u001b[39m\u001b[38;5;130;01m\\n\u001b[39;00m\u001b[38;5;124m'\u001b[39m)\u001b[38;5;241m.\u001b[39msplit(\u001b[38;5;124m'\u001b[39m\u001b[38;5;124m \u001b[39m\u001b[38;5;124m'\u001b[39m) \u001b[38;5;28;01mif\u001b[39;00m part]\n\u001b[1;32m     19\u001b[0m cnt \u001b[38;5;241m=\u001b[39m parts[\u001b[38;5;241m5\u001b[39m]\n\u001b[0;32m---> 20\u001b[0m size \u001b[38;5;241m=\u001b[39m \u001b[43msize_multiplier\u001b[49m\u001b[43m(\u001b[49m\u001b[43mparts\u001b[49m\u001b[43m[\u001b[49m\u001b[38;5;241;43m8\u001b[39;49m\u001b[43m]\u001b[49m\u001b[43m)\u001b[49m \u001b[38;5;241m*\u001b[39m \u001b[38;5;28mfloat\u001b[39m(parts[\u001b[38;5;241m7\u001b[39m])\n\u001b[1;32m     22\u001b[0m \u001b[38;5;28;01mreturn\u001b[39;00m cnt, size\n",
      "Cell \u001b[0;32mIn[43], line 15\u001b[0m, in \u001b[0;36msize_multiplier\u001b[0;34m(size)\u001b[0m\n\u001b[1;32m     13\u001b[0m     \u001b[38;5;28;01mreturn\u001b[39;00m \u001b[38;5;241m1_000_000\u001b[39m\n\u001b[1;32m     14\u001b[0m \u001b[38;5;28;01melse\u001b[39;00m:\n\u001b[0;32m---> 15\u001b[0m     \u001b[38;5;28;01mraise\u001b[39;00m \u001b[38;5;167;01mException\u001b[39;00m(\u001b[38;5;124m\"\u001b[39m\u001b[38;5;124minvalid value \u001b[39m\u001b[38;5;132;01m{}\u001b[39;00m\u001b[38;5;124m\"\u001b[39m\u001b[38;5;241m.\u001b[39mformat(size))\n",
      "\u001b[0;31mException\u001b[0m: invalid value new"
     ]
    }
   ],
   "source": [
    "import matplotlib.pyplot as plt\n",
    "import numpy as np\n",
    "\n",
    "from matplotlib import colors\n",
    "from matplotlib.ticker import PercentFormatter\n",
    "\n",
    "def size_multiplier(size):\n",
    "    if size == \"B\":\n",
    "        return 1\n",
    "    elif size == \"KiB\":\n",
    "        return 1000\n",
    "    elif size == \"MiB\":\n",
    "        return 1_000_000\n",
    "    else:\n",
    "        raise Exception(\"invalid value {}\".format(size))\n",
    "\n",
    "def extract_count_and_size(line: str):\n",
    "    parts = [part for part in line.strip('\\n').split(' ') if part]\n",
    "    cnt = parts[5]\n",
    "    size = size_multiplier(parts[8]) * float(parts[7])\n",
    "\n",
    "    return cnt, size\n",
    "\n",
    "def extract_block_size(line: str):\n",
    "    parts = [part for part in line.strip('\\n').split(' ') if part]\n",
    "    return size_multiplier(parts[10]) * float(parts[9])\n",
    "\n",
    "def extract_total_size(line: str):\n",
    "    parts = [part for part in line.strip('\\n').split(' ') if part]\n",
    "    return size_multiplier(parts[8]) * int(parts[7])\n",
    "\n",
    "vals = []\n",
    "with open('witnesses.txt', 'r') as f:\n",
    "    lines = f.readlines()\n",
    "    it = iter(lines)\n",
    "    for line in it:\n",
    "        if \"summary\" in line:\n",
    "            block_hash_count, block_hash_size = extract_count_and_size(next(it))\n",
    "            owner_count, owner_size = extract_count_and_size(next(it))\n",
    "            node_count, node_size = extract_count_and_size(next(it))\n",
    "            path_count, path_size = extract_count_and_size(next(it))\n",
    "            code_count, code_size = extract_count_and_size(next(it))\n",
    "            code_hash_count, code_hash_size = extract_count_and_size(next(it))\n",
    "            block_size = extract_block_size(next(it))\n",
    "            total_size = next(it)\n",
    "\t#vals = [int(line.strip('\\n').split(' ')[-1]) for line in lines]\n",
    "\n",
    "n_bins = 20\n",
    "\n",
    "# Generate two normal distributions\n",
    "dist1 = vals\n",
    "\n",
    "#fig, axs = #plt.subplots(1, 2, sharey=True, tight_layout=True)\n",
    "\n",
    "# We can set the number of bins with the *bins* keyword argument.\n",
    "#axs[0].hist(dist1, bins=n_bins)\n",
    "\n",
    "fig, ax = plt.subplots(tight_layout=True)\n",
    "plt.xlabel(\"Size (mb)\")\n",
    "plt.ylabel(\"number of occurances\")\n",
    "plt.title(\"total witness size\")\n",
    "ax.hist(dist1, bins=100)"
   ]
  },
  {
   "cell_type": "code",
   "execution_count": null,
   "id": "2e1495bf-c29e-404d-b2ff-b07f05b4a421",
   "metadata": {},
   "outputs": [],
   "source": []
  },
  {
   "cell_type": "code",
   "execution_count": null,
   "id": "46a3f965-3402-47ea-9ca2-5d605cfc62ea",
   "metadata": {},
   "outputs": [],
   "source": []
  }
 ],
 "metadata": {
  "kernelspec": {
   "display_name": "Python 3 (ipykernel)",
   "language": "python",
   "name": "python3"
  },
  "language_info": {
   "codemirror_mode": {
    "name": "ipython",
    "version": 3
   },
   "file_extension": ".py",
   "mimetype": "text/x-python",
   "name": "python",
   "nbconvert_exporter": "python",
   "pygments_lexer": "ipython3",
   "version": "3.11.3"
  }
 },
 "nbformat": 4,
 "nbformat_minor": 5
}
